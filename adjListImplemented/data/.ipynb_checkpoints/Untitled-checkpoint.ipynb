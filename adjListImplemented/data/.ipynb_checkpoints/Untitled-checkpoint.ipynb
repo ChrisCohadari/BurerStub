{
 "cells": [
  {
   "cell_type": "code",
   "execution_count": 3,
   "metadata": {},
   "outputs": [],
   "source": [
    "import pandas as pd\n",
    "import matplotlib.pyplot as plt"
   ]
  },
  {
   "cell_type": "code",
   "execution_count": 2,
   "metadata": {},
   "outputs": [
    {
     "data": {
      "text/html": [
       "<div>\n",
       "<style scoped>\n",
       "    .dataframe tbody tr th:only-of-type {\n",
       "        vertical-align: middle;\n",
       "    }\n",
       "\n",
       "    .dataframe tbody tr th {\n",
       "        vertical-align: top;\n",
       "    }\n",
       "\n",
       "    .dataframe thead th {\n",
       "        text-align: right;\n",
       "    }\n",
       "</style>\n",
       "<table border=\"1\" class=\"dataframe\">\n",
       "  <thead>\n",
       "    <tr style=\"text-align: right;\">\n",
       "      <th></th>\n",
       "      <th>instance (.mc)</th>\n",
       "      <th>M=05</th>\n",
       "      <th>N=05</th>\n",
       "      <th>M=05.1</th>\n",
       "      <th>N=10</th>\n",
       "      <th>M=05.2</th>\n",
       "      <th>N=15</th>\n",
       "      <th>M=10</th>\n",
       "      <th>N=05.1</th>\n",
       "      <th>M=10.1</th>\n",
       "      <th>...</th>\n",
       "      <th>M=40.1</th>\n",
       "      <th>N=10.5</th>\n",
       "      <th>M=40.2</th>\n",
       "      <th>N=15.5</th>\n",
       "      <th>M=50</th>\n",
       "      <th>N=05.6</th>\n",
       "      <th>M=50.1</th>\n",
       "      <th>N=10.6</th>\n",
       "      <th>M=50.2</th>\n",
       "      <th>N=15.6</th>\n",
       "    </tr>\n",
       "  </thead>\n",
       "  <tbody>\n",
       "    <tr>\n",
       "      <th>0</th>\n",
       "      <td>be100.1.mc</td>\n",
       "      <td>19412.0</td>\n",
       "      <td>89.0</td>\n",
       "      <td>19412.0</td>\n",
       "      <td>105.0</td>\n",
       "      <td>19412.0</td>\n",
       "      <td>115.0</td>\n",
       "      <td>19412.0</td>\n",
       "      <td>151.0</td>\n",
       "      <td>19412.0</td>\n",
       "      <td>...</td>\n",
       "      <td>19412.0</td>\n",
       "      <td>750.0</td>\n",
       "      <td>19412.0</td>\n",
       "      <td>970.0</td>\n",
       "      <td>19412.0</td>\n",
       "      <td>677.0</td>\n",
       "      <td>19412.0</td>\n",
       "      <td>911.0</td>\n",
       "      <td>19412.0</td>\n",
       "      <td>1303.0</td>\n",
       "    </tr>\n",
       "    <tr>\n",
       "      <th>1</th>\n",
       "      <td>be100.10.mc</td>\n",
       "      <td>15352.0</td>\n",
       "      <td>59.0</td>\n",
       "      <td>15352.0</td>\n",
       "      <td>91.0</td>\n",
       "      <td>15352.0</td>\n",
       "      <td>140.0</td>\n",
       "      <td>15352.0</td>\n",
       "      <td>140.0</td>\n",
       "      <td>15352.0</td>\n",
       "      <td>...</td>\n",
       "      <td>15352.0</td>\n",
       "      <td>793.0</td>\n",
       "      <td>15352.0</td>\n",
       "      <td>1030.0</td>\n",
       "      <td>15352.0</td>\n",
       "      <td>602.0</td>\n",
       "      <td>15352.0</td>\n",
       "      <td>963.0</td>\n",
       "      <td>15352.0</td>\n",
       "      <td>1267.0</td>\n",
       "    </tr>\n",
       "    <tr>\n",
       "      <th>2</th>\n",
       "      <td>be100.2.mc</td>\n",
       "      <td>17290.0</td>\n",
       "      <td>60.0</td>\n",
       "      <td>17290.0</td>\n",
       "      <td>105.0</td>\n",
       "      <td>17290.0</td>\n",
       "      <td>125.0</td>\n",
       "      <td>17290.0</td>\n",
       "      <td>101.0</td>\n",
       "      <td>17290.0</td>\n",
       "      <td>...</td>\n",
       "      <td>17290.0</td>\n",
       "      <td>714.0</td>\n",
       "      <td>17290.0</td>\n",
       "      <td>891.0</td>\n",
       "      <td>17290.0</td>\n",
       "      <td>546.0</td>\n",
       "      <td>17290.0</td>\n",
       "      <td>825.0</td>\n",
       "      <td>17290.0</td>\n",
       "      <td>1222.0</td>\n",
       "    </tr>\n",
       "    <tr>\n",
       "      <th>3</th>\n",
       "      <td>be100.3.mc</td>\n",
       "      <td>17565.0</td>\n",
       "      <td>57.0</td>\n",
       "      <td>17532.0</td>\n",
       "      <td>83.0</td>\n",
       "      <td>17565.0</td>\n",
       "      <td>103.0</td>\n",
       "      <td>17565.0</td>\n",
       "      <td>106.0</td>\n",
       "      <td>17565.0</td>\n",
       "      <td>...</td>\n",
       "      <td>17565.0</td>\n",
       "      <td>740.0</td>\n",
       "      <td>17565.0</td>\n",
       "      <td>928.0</td>\n",
       "      <td>17565.0</td>\n",
       "      <td>637.0</td>\n",
       "      <td>17565.0</td>\n",
       "      <td>923.0</td>\n",
       "      <td>17565.0</td>\n",
       "      <td>1169.0</td>\n",
       "    </tr>\n",
       "    <tr>\n",
       "      <th>4</th>\n",
       "      <td>be100.4.mc</td>\n",
       "      <td>19125.0</td>\n",
       "      <td>58.0</td>\n",
       "      <td>19125.0</td>\n",
       "      <td>93.0</td>\n",
       "      <td>19125.0</td>\n",
       "      <td>139.0</td>\n",
       "      <td>19125.0</td>\n",
       "      <td>123.0</td>\n",
       "      <td>19125.0</td>\n",
       "      <td>...</td>\n",
       "      <td>19125.0</td>\n",
       "      <td>733.0</td>\n",
       "      <td>19125.0</td>\n",
       "      <td>1201.0</td>\n",
       "      <td>19125.0</td>\n",
       "      <td>596.0</td>\n",
       "      <td>19125.0</td>\n",
       "      <td>1037.0</td>\n",
       "      <td>19125.0</td>\n",
       "      <td>1434.0</td>\n",
       "    </tr>\n",
       "  </tbody>\n",
       "</table>\n",
       "<p>5 rows × 43 columns</p>\n",
       "</div>"
      ],
      "text/plain": [
       "  instance (.mc)     M=05  N=05   M=05.1   N=10   M=05.2   N=15     M=10  \\\n",
       "0     be100.1.mc  19412.0  89.0  19412.0  105.0  19412.0  115.0  19412.0   \n",
       "1    be100.10.mc  15352.0  59.0  15352.0   91.0  15352.0  140.0  15352.0   \n",
       "2     be100.2.mc  17290.0  60.0  17290.0  105.0  17290.0  125.0  17290.0   \n",
       "3     be100.3.mc  17565.0  57.0  17532.0   83.0  17565.0  103.0  17565.0   \n",
       "4     be100.4.mc  19125.0  58.0  19125.0   93.0  19125.0  139.0  19125.0   \n",
       "\n",
       "   N=05.1   M=10.1  ...   M=40.1  N=10.5   M=40.2  N=15.5     M=50  N=05.6  \\\n",
       "0   151.0  19412.0  ...  19412.0   750.0  19412.0   970.0  19412.0   677.0   \n",
       "1   140.0  15352.0  ...  15352.0   793.0  15352.0  1030.0  15352.0   602.0   \n",
       "2   101.0  17290.0  ...  17290.0   714.0  17290.0   891.0  17290.0   546.0   \n",
       "3   106.0  17565.0  ...  17565.0   740.0  17565.0   928.0  17565.0   637.0   \n",
       "4   123.0  19125.0  ...  19125.0   733.0  19125.0  1201.0  19125.0   596.0   \n",
       "\n",
       "    M=50.1  N=10.6   M=50.2  N=15.6  \n",
       "0  19412.0   911.0  19412.0  1303.0  \n",
       "1  15352.0   963.0  15352.0  1267.0  \n",
       "2  17290.0   825.0  17290.0  1222.0  \n",
       "3  17565.0   923.0  17565.0  1169.0  \n",
       "4  19125.0  1037.0  19125.0  1434.0  \n",
       "\n",
       "[5 rows x 43 columns]"
      ]
     },
     "execution_count": 2,
     "metadata": {},
     "output_type": "execute_result"
    }
   ],
   "source": [
    "df = pd.read_csv('data.csv')\n",
    "df.head()"
   ]
  },
  {
   "cell_type": "code",
   "execution_count": 25,
   "metadata": {},
   "outputs": [
    {
     "data": {
      "text/plain": [
       "<function matplotlib.pyplot.show(close=None, block=None)>"
      ]
     },
     "execution_count": 25,
     "metadata": {},
     "output_type": "execute_result"
    },
    {
     "data": {
      "image/png": "[encoded data removed]",
      "text/plain": [
       "<Figure size 432x288 with 1 Axes>"
      ]
     },
     "metadata": {
      "needs_background": "light"
     },
     "output_type": "display_data"
    }
   ],
   "source": [
    "row = df.iloc[[1], [x for x in range(len(df.columns)) if x%2 ==1]]\n",
    "row.plot(kind = 'bar')\n",
    "plt.show"
   ]
  },
  {
   "cell_type": "code",
   "execution_count": 16,
   "metadata": {},
   "outputs": [
    {
     "name": "stdout",
     "output_type": "stream",
     "text": [
      "[1, 3, 5, 7, 9, 11, 13, 15, 17, 19, 21, 23, 25, 27, 29, 31, 33, 35, 37, 39, 41]\n"
     ]
    }
   ],
   "source": [
    "print([ x for x in range(len(df.columns)) if x%2 ==1])"
   ]
  },
  {
   "cell_type": "code",
   "execution_count": null,
   "metadata": {},
   "outputs": [],
   "source": []
  }
 ],
 "metadata": {
  "kernelspec": {
   "display_name": "Python 3",
   "language": "python",
   "name": "python3"
  },
  "language_info": {
   "codemirror_mode": {
    "name": "ipython",
    "version": 3
   },
   "file_extension": ".py",
   "mimetype": "text/x-python",
   "name": "python",
   "nbconvert_exporter": "python",
   "pygments_lexer": "ipython3",
   "version": "3.8.5"
  }
 },
 "nbformat": 4,
 "nbformat_minor": 4
}
